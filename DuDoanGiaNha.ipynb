{
 "cells": [
  {
   "cell_type": "code",
   "execution_count": 2,
   "id": "76446b0c-54fb-4b93-9066-661cb2a6a367",
   "metadata": {},
   "outputs": [
    {
     "name": "stdout",
     "output_type": "stream",
     "text": [
      "Hệ số chặn (bias): -2047635.6592803001\n",
      "Hệ số của LotArea: 0.7927518593099094\n",
      "Hệ số của YearBuilt: 1056.2651905043167\n",
      "Hệ số của GrLivArea: 91.08634755634512\n",
      "Sai số bình phương trung bình (MSE): 2124069526.463791\n"
     ]
    }
   ],
   "source": [
    "import numpy as np\n",
    "import pandas as pd\n",
    "\n",
    "# Load the data\n",
    "data = pd.read_csv('train.csv')\n",
    "\n",
    "# Chọn các đặc trưng cần thiết và loại bỏ các hàng có giá trị null\n",
    "data_clean = data[['LotArea', 'YearBuilt', 'GrLivArea', 'SalePrice']].dropna()\n",
    "\n",
    "# X là ma trận đầu vào (có các đặc trưng diện tích lô đất, năm xây dựng, diện tích sinh hoạt), y là biến đích (giá nhà)\n",
    "X = data_clean[['LotArea', 'YearBuilt', 'GrLivArea']].values\n",
    "y = data_clean['SalePrice'].values\n",
    "\n",
    "# Thêm một cột toàn giá trị 1 vào X để tính hệ số chặn (bias term)\n",
    "one = np.ones((X.shape[0], 1))\n",
    "Xbar = np.concatenate((one, X), axis=1)\n",
    "\n",
    "# Tính toán hệ số hồi quy bằng công thức: w = (X^T * X)^(-1) * X^T * y\n",
    "A = np.dot(Xbar.T, Xbar)         # X^T * X\n",
    "b = np.dot(Xbar.T, y)            # X^T * y\n",
    "w = np.dot(np.linalg.pinv(A), b)  # w = (X^T * X)^(-1) * X^T * y\n",
    "\n",
    "# Hệ số hồi quy\n",
    "w_0, w_1, w_2, w_3 = w\n",
    "\n",
    "print(\"Hệ số chặn (bias):\", w_0)\n",
    "print(\"Hệ số của LotArea:\", w_1)\n",
    "print(\"Hệ số của YearBuilt:\", w_2)\n",
    "print(\"Hệ số của GrLivArea:\", w_3)\n",
    "\n",
    "# Dự đoán giá nhà\n",
    "y_pred = np.dot(Xbar, w)\n",
    "\n",
    "# Tính sai số bình phương trung bình (MSE)\n",
    "mse = np.mean((y_pred - y) ** 2)\n",
    "print(\"Sai số bình phương trung bình (MSE):\", mse)\n"
   ]
  },
  {
   "cell_type": "code",
   "execution_count": null,
   "id": "a9a536ef-1c9f-4809-b2e1-ff0c3fc213cc",
   "metadata": {},
   "outputs": [],
   "source": []
  }
 ],
 "metadata": {
  "kernelspec": {
   "display_name": "Python 3 (ipykernel)",
   "language": "python",
   "name": "python3"
  },
  "language_info": {
   "codemirror_mode": {
    "name": "ipython",
    "version": 3
   },
   "file_extension": ".py",
   "mimetype": "text/x-python",
   "name": "python",
   "nbconvert_exporter": "python",
   "pygments_lexer": "ipython3",
   "version": "3.12.3"
  }
 },
 "nbformat": 4,
 "nbformat_minor": 5
}
