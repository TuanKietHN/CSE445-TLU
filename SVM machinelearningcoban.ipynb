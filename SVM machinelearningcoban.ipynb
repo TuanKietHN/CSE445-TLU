{
 "cells": [
  {
   "cell_type": "code",
   "execution_count": 2,
   "id": "1ab857da-9137-4496-adf2-4089bd133cd9",
   "metadata": {},
   "outputs": [],
   "source": [
    "import numpy as np\n",
    "import matplotlib.pyplot as plt\n",
    "from scipy.spatial.distance import cdist\n",
    "np.random.seed(21)\n",
    "\n",
    "# Tạo dữ liệu\n",
    "means = [[2, 2], [4, 1]]\n",
    "cov = [[.3, .2], [.2, .3]]\n",
    "N = 10\n",
    "X0 = np.random.multivariate_normal(means[0], cov, N)  # Dữ liệu cho lớp 1\n",
    "X1 = np.random.multivariate_normal(means[1], cov, N)  # Dữ liệu cho lớp -1\n",
    "X1[-1, :] = [2.7, 2]  # Thay đổi một giá trị của X1\n",
    "\n",
    "# Hoán vị để phù hợp với yêu cầu của mô hình (X có dạng (20, 2))\n",
    "X = np.concatenate((X0, X1))  # Kết hợp hai lớp thành một ma trận dữ liệu\n",
    "y = np.concatenate((np.ones(N), -1*np.ones(N)))  # Nhãn (1 cho lớp 1 và -1 cho lớp -1)\n"
   ]
  },
  {
   "cell_type": "code",
   "execution_count": 39,
   "id": "f302105c-161b-4d7b-a3a1-6912001e9249",
   "metadata": {},
   "outputs": [
    {
     "name": "stdout",
     "output_type": "stream",
     "text": [
      "Sklearn solution: w = [[-5.54202362  2.4156074 ]] b = 9.132415590204586\n"
     ]
    }
   ],
   "source": [
    "from sklearn.svm import SVC\n",
    "\n",
    "# Tham số cho SVM\n",
    "C = 100\n",
    "clf = SVC(kernel='linear', C=C)\n",
    "clf.fit(X, y)\n",
    "\n",
    "# Lấy trọng số và bias từ mô hình SVM đã huấn luyện\n",
    "w_sklearn = clf.coef_.reshape(-1, 1)\n",
    "b_sklearn = clf.intercept_[0]\n",
    "\n",
    "print('Sklearn solution: w =', w_sklearn.T, 'b =', b_sklearn)\n"
   ]
  },
  {
   "cell_type": "code",
   "execution_count": 45,
   "id": "ea9bb599-175c-4e0e-9176-c58959f41e29",
   "metadata": {},
   "outputs": [
    {
     "ename": "TypeError",
     "evalue": "'P' must be a 'd' matrix of size (20, 20)",
     "output_type": "error",
     "traceback": [
      "\u001b[1;31m---------------------------------------------------------------------------\u001b[0m",
      "\u001b[1;31mTypeError\u001b[0m                                 Traceback (most recent call last)",
      "Cell \u001b[1;32mIn[45], line 18\u001b[0m\n\u001b[0;32m     16\u001b[0m \u001b[38;5;66;03m# Giải bài toán quy hoạch bậc hai\u001b[39;00m\n\u001b[0;32m     17\u001b[0m solvers\u001b[38;5;241m.\u001b[39moptions[\u001b[38;5;124m'\u001b[39m\u001b[38;5;124mshow_progress\u001b[39m\u001b[38;5;124m'\u001b[39m] \u001b[38;5;241m=\u001b[39m \u001b[38;5;28;01mFalse\u001b[39;00m\n\u001b[1;32m---> 18\u001b[0m sol \u001b[38;5;241m=\u001b[39m solvers\u001b[38;5;241m.\u001b[39mqp(K, p, G, h, A, b)\n\u001b[0;32m     20\u001b[0m \u001b[38;5;66;03m# Lấy giá trị lambda (hệ số đối ngẫu)\u001b[39;00m\n\u001b[0;32m     21\u001b[0m l \u001b[38;5;241m=\u001b[39m np\u001b[38;5;241m.\u001b[39marray(sol[\u001b[38;5;124m'\u001b[39m\u001b[38;5;124mx\u001b[39m\u001b[38;5;124m'\u001b[39m])\n",
      "File \u001b[1;32mC:\\anaconda3\\Lib\\site-packages\\cvxopt\\coneprog.py:4485\u001b[0m, in \u001b[0;36mqp\u001b[1;34m(P, q, G, h, A, b, solver, kktsolver, initvals, **kwargs)\u001b[0m\n\u001b[0;32m   4475\u001b[0m         pinfres, dinfres \u001b[38;5;241m=\u001b[39m \u001b[38;5;28;01mNone\u001b[39;00m, \u001b[38;5;28;01mNone\u001b[39;00m\n\u001b[0;32m   4477\u001b[0m     \u001b[38;5;28;01mreturn\u001b[39;00m {\u001b[38;5;124m'\u001b[39m\u001b[38;5;124mstatus\u001b[39m\u001b[38;5;124m'\u001b[39m: status, \u001b[38;5;124m'\u001b[39m\u001b[38;5;124mx\u001b[39m\u001b[38;5;124m'\u001b[39m: x, \u001b[38;5;124m'\u001b[39m\u001b[38;5;124ms\u001b[39m\u001b[38;5;124m'\u001b[39m: s, \u001b[38;5;124m'\u001b[39m\u001b[38;5;124my\u001b[39m\u001b[38;5;124m'\u001b[39m: y, \u001b[38;5;124m'\u001b[39m\u001b[38;5;124mz\u001b[39m\u001b[38;5;124m'\u001b[39m: z,\n\u001b[0;32m   4478\u001b[0m         \u001b[38;5;124m'\u001b[39m\u001b[38;5;124mprimal objective\u001b[39m\u001b[38;5;124m'\u001b[39m: pcost, \u001b[38;5;124m'\u001b[39m\u001b[38;5;124mdual objective\u001b[39m\u001b[38;5;124m'\u001b[39m: dcost,\n\u001b[0;32m   4479\u001b[0m         \u001b[38;5;124m'\u001b[39m\u001b[38;5;124mgap\u001b[39m\u001b[38;5;124m'\u001b[39m: gap, \u001b[38;5;124m'\u001b[39m\u001b[38;5;124mrelative gap\u001b[39m\u001b[38;5;124m'\u001b[39m: relgap,\n\u001b[1;32m   (...)\u001b[0m\n\u001b[0;32m   4482\u001b[0m         \u001b[38;5;124m'\u001b[39m\u001b[38;5;124mresidual as primal infeasibility certificate\u001b[39m\u001b[38;5;124m'\u001b[39m: pinfres,\n\u001b[0;32m   4483\u001b[0m         \u001b[38;5;124m'\u001b[39m\u001b[38;5;124mresidual as dual infeasibility certificate\u001b[39m\u001b[38;5;124m'\u001b[39m: dinfres}\n\u001b[1;32m-> 4485\u001b[0m \u001b[38;5;28;01mreturn\u001b[39;00m coneqp(P, q, G, h, \u001b[38;5;28;01mNone\u001b[39;00m, A,  b, initvals, kktsolver \u001b[38;5;241m=\u001b[39m kktsolver, options \u001b[38;5;241m=\u001b[39m options)\n",
      "File \u001b[1;32mC:\\anaconda3\\Lib\\site-packages\\cvxopt\\coneprog.py:1841\u001b[0m, in \u001b[0;36mconeqp\u001b[1;34m(P, q, G, h, dims, A, b, initvals, kktsolver, xnewcopy, xdot, xaxpy, xscal, ynewcopy, ydot, yaxpy, yscal, **kwargs)\u001b[0m\n\u001b[0;32m   1839\u001b[0m \u001b[38;5;28;01mif\u001b[39;00m matrixP:\n\u001b[0;32m   1840\u001b[0m     \u001b[38;5;28;01mif\u001b[39;00m P\u001b[38;5;241m.\u001b[39mtypecode \u001b[38;5;241m!=\u001b[39m \u001b[38;5;124m'\u001b[39m\u001b[38;5;124md\u001b[39m\u001b[38;5;124m'\u001b[39m \u001b[38;5;129;01mor\u001b[39;00m P\u001b[38;5;241m.\u001b[39msize \u001b[38;5;241m!=\u001b[39m (q\u001b[38;5;241m.\u001b[39msize[\u001b[38;5;241m0\u001b[39m], q\u001b[38;5;241m.\u001b[39msize[\u001b[38;5;241m0\u001b[39m]):\n\u001b[1;32m-> 1841\u001b[0m         \u001b[38;5;28;01mraise\u001b[39;00m \u001b[38;5;167;01mTypeError\u001b[39;00m(\u001b[38;5;124m\"\u001b[39m\u001b[38;5;124m'\u001b[39m\u001b[38;5;124mP\u001b[39m\u001b[38;5;124m'\u001b[39m\u001b[38;5;124m must be a \u001b[39m\u001b[38;5;124m'\u001b[39m\u001b[38;5;124md\u001b[39m\u001b[38;5;124m'\u001b[39m\u001b[38;5;124m matrix of size (\u001b[39m\u001b[38;5;132;01m%d\u001b[39;00m\u001b[38;5;124m, \u001b[39m\u001b[38;5;132;01m%d\u001b[39;00m\u001b[38;5;124m)\u001b[39m\u001b[38;5;124m\"\u001b[39m\\\n\u001b[0;32m   1842\u001b[0m             \u001b[38;5;241m%\u001b[39m(q\u001b[38;5;241m.\u001b[39msize[\u001b[38;5;241m0\u001b[39m], q\u001b[38;5;241m.\u001b[39msize[\u001b[38;5;241m0\u001b[39m]))\n\u001b[0;32m   1843\u001b[0m     \u001b[38;5;28;01mdef\u001b[39;00m \u001b[38;5;21mfP\u001b[39m(x, y, alpha \u001b[38;5;241m=\u001b[39m \u001b[38;5;241m1.0\u001b[39m, beta \u001b[38;5;241m=\u001b[39m \u001b[38;5;241m0.0\u001b[39m):\n\u001b[0;32m   1844\u001b[0m         base\u001b[38;5;241m.\u001b[39msymv(P, x, y, alpha \u001b[38;5;241m=\u001b[39m alpha, beta \u001b[38;5;241m=\u001b[39m beta)\n",
      "\u001b[1;31mTypeError\u001b[0m: 'P' must be a 'd' matrix of size (20, 20)"
     ]
    }
   ],
   "source": [
    "#Giải bằng bài toán đối ngẫu lagranges\n",
    "\n",
    "from cvxopt import matrix, solvers\n",
    "\n",
    "# Tạo ma trận V từ dữ liệu\n",
    "V = np.concatenate((X0, -X1))  # Combine the data for the Lagrangian\n",
    "K = matrix(V.T.dot(V))  # Kernel matrix\n",
    "\n",
    "# Xây dựng các tham số cho bài toán đối ngẫu\n",
    "p = matrix(-np.ones((2 * N, 1)))  # Vector p\n",
    "G = matrix(np.vstack((-np.eye(2 * N), np.eye(2 * N))))  # Matrix G\n",
    "h = matrix(np.vstack((np.zeros((2 * N, 1)), C * np.ones((2 * N, 1)))))  # Vector h\n",
    "A = matrix(y.reshape(1, -1).astype(np.double))  # Matrix A (nhãn y)\n",
    "b = matrix(np.zeros((1, 1)))  # Vector b\n",
    "\n",
    "# Giải bài toán quy hoạch bậc hai\n",
    "solvers.options['show_progress'] = False\n",
    "sol = solvers.qp(K, p, G, h, A, b)\n",
    "\n",
    "# Lấy giá trị lambda (hệ số đối ngẫu)\n",
    "l = np.array(sol['x'])\n",
    "print('Lagrange solution: lambda =', l.T)\n",
    "\n",
    "# Lấy tập support vectors\n",
    "S = np.where(l > 1e-5)[0]  # Support vectors (lớn hơn một giá trị rất nhỏ)\n",
    "S2 = np.where(l < .999 * C)[0]  # Những vectors không bị cắt\n",
    "\n",
    "# Giao của hai tập S và S2\n",
    "M = [val for val in S if val in S2]\n",
    "\n",
    "# Tính w và b\n",
    "VS = V[:, S]\n",
    "lS = l[S]\n",
    "yM = y[M]\n",
    "XM = X[M, :]\n",
    "\n",
    "w_dual = VS.dot(lS).reshape(-1, 1)\n",
    "b_dual = np.mean(yM.T - w_dual.T.dot(XM.T))\n",
    "\n",
    "print('Dual Lagrange solution: w =', w_dual.T, 'b =', b_dual)\n"
   ]
  },
  {
   "cell_type": "code",
   "execution_count": 43,
   "id": "44efbff5-1198-4941-95c9-6347892a7fc8",
   "metadata": {},
   "outputs": [
    {
     "name": "stdout",
     "output_type": "stream",
     "text": [
      "Gradient Descent solution: w = [[-5.54886017  2.41848846]] b = [9.14504496]\n"
     ]
    }
   ],
   "source": [
    "#Giải bằng gradient Descent\n",
    "# Tạo dữ liệu cho gradient descent\n",
    "X0_bar = np.hstack((X0, np.ones((N, 1))))  # Thêm bias vào dữ liệu lớp 1\n",
    "X1_bar = np.hstack((X1, np.ones((N, 1))))  # Thêm bias vào dữ liệu lớp -1\n",
    "\n",
    "Z = np.vstack((X0_bar, -X1_bar))  # Tạo ma trận Z từ dữ liệu\n",
    "lam = 1. / C  # Hệ số regularization\n",
    "\n",
    "# Hàm tính cost\n",
    "def cost(w):\n",
    "    u = Z.dot(w)\n",
    "    return np.sum(np.maximum(0, 1 - u)) + 0.5 * lam * np.sum(w[:-1] ** 2)\n",
    "\n",
    "# Hàm tính gradient\n",
    "def grad(w):\n",
    "    u = Z.dot(w)\n",
    "    H = np.where(u < 1)[0]\n",
    "    ZS = Z[H]\n",
    "    g = -ZS.sum(axis=0).reshape(-1, 1) + lam * np.vstack((w[:-1], 0))\n",
    "    return g\n",
    "\n",
    "# Gradient descent\n",
    "def gradient_descent(w0, eta, tol=1e-5, max_iter=100000):\n",
    "    w = w0\n",
    "    for it in range(max_iter):\n",
    "        g = grad(w)\n",
    "        w -= eta * g\n",
    "        if np.linalg.norm(g) < tol:\n",
    "            break\n",
    "    return w\n",
    "\n",
    "# Khởi tạo w và huấn luyện bằng gradient descent\n",
    "w0 = np.random.randn(Z.shape[1], 1)\n",
    "w = gradient_descent(w0, eta=0.001)\n",
    "\n",
    "# Tách w và b từ w học được\n",
    "w_hinge = w[:-1].reshape(-1, 1)\n",
    "b_hinge = w[-1]\n",
    "\n",
    "print('Gradient Descent solution: w =', w_hinge.T, 'b =', b_hinge)\n"
   ]
  },
  {
   "cell_type": "code",
   "execution_count": null,
   "id": "a3b101c7-7469-4558-b640-dbd28ee1ad82",
   "metadata": {},
   "outputs": [],
   "source": []
  }
 ],
 "metadata": {
  "kernelspec": {
   "display_name": "Python 3 (ipykernel)",
   "language": "python",
   "name": "python3"
  },
  "language_info": {
   "codemirror_mode": {
    "name": "ipython",
    "version": 3
   },
   "file_extension": ".py",
   "mimetype": "text/x-python",
   "name": "python",
   "nbconvert_exporter": "python",
   "pygments_lexer": "ipython3",
   "version": "3.12.3"
  }
 },
 "nbformat": 4,
 "nbformat_minor": 5
}
