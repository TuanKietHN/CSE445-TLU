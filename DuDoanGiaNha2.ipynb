{
 "cells": [
  {
   "cell_type": "code",
   "execution_count": 3,
   "id": "33e1960a-757e-4bd3-8081-5bed38121f7c",
   "metadata": {},
   "outputs": [
    {
     "name": "stdout",
     "output_type": "stream",
     "text": [
      "[[ 8450  2003  1710]\n",
      " [ 9600  1976  1262]\n",
      " [11250  2001  1786]\n",
      " ...\n",
      " [ 9042  1941  2340]\n",
      " [ 9717  1950  1078]\n",
      " [ 9937  1965  1256]]\n",
      "[208500 181500 223500 ... 266500 142125 147500]\n",
      "[[1.000e+00 8.450e+03 2.003e+03 1.710e+03]\n",
      " [1.000e+00 9.600e+03 1.976e+03 1.262e+03]\n",
      " [1.000e+00 1.125e+04 2.001e+03 1.786e+03]\n",
      " ...\n",
      " [1.000e+00 9.042e+03 1.941e+03 2.340e+03]\n",
      " [1.000e+00 9.717e+03 1.950e+03 1.078e+03]\n",
      " [1.000e+00 9.937e+03 1.965e+03 1.256e+03]]\n",
      "Hệ số chặn (bias): -2047635.6194185019\n",
      "Hệ số của LotArea: 0.7927518564289073\n",
      "Hệ số của YearBuilt: 1056.2651701436262\n",
      "Hệ số của GrLivArea: 91.08634776316467\n",
      "Sai số bình phương trung bình (MSE): 2124069526.4637902\n"
     ]
    }
   ],
   "source": [
    "import numpy as np\n",
    "import pandas as pd\n",
    "\n",
    "# Load the data (đoạn này thay thế bằng cách đọc từ file)\n",
    "data = pd.read_csv('train.csv')\n",
    "\n",
    "# Chọn các đặc trưng và loại bỏ các hàng có giá trị null\n",
    "data_clean = data[['LotArea', 'YearBuilt', 'GrLivArea', 'SalePrice']].dropna()\n",
    "\n",
    "# X là ma trận đầu vào (có thêm cột toàn 1 để tính hệ số chặn), y là biến đích (giá nhà)\n",
    "X = data_clean[['LotArea', 'YearBuilt', 'GrLivArea']].values\n",
    "print(X)\n",
    "y = data_clean['SalePrice'].values\n",
    "print(y)\n",
    "\n",
    "# Thêm một cột toàn giá trị 1 vào X để tính hệ số chặn (bias term)\n",
    "X = np.column_stack([np.ones(X.shape[0]), X])\n",
    "print(X)\n",
    "# Tính toán hệ số hồi quy theo công thức OLS: w = (X^T * X)^(-1) * X^T * y\n",
    "XtX = np.dot(X.T, X)           # X^T * X\n",
    "XtX_inv = np.linalg.inv(XtX)    # (X^T * X)^(-1)\n",
    "XtY = np.dot(X.T, y)            # X^T * y\n",
    "w = np.dot(XtX_inv, XtY)        # w = (X^T * X)^(-1) * X^T * y\n",
    "\n",
    "# Hệ số hồi quy (w[0] là hệ số chặn, w[1:] là hệ số của các đặc trưng)\n",
    "print(\"Hệ số chặn (bias):\", w[0])\n",
    "print(\"Hệ số của LotArea:\", w[1])\n",
    "print(\"Hệ số của YearBuilt:\", w[2])\n",
    "print(\"Hệ số của GrLivArea:\", w[3])\n",
    "\n",
    "# Dự đoán giá nhà với các đặc trưng đã chọn\n",
    "y_pred = np.dot(X, w)\n",
    "\n",
    "# Tính sai số bình phương trung bình (MSE) để đánh giá mô hình\n",
    "mse = np.mean((y_pred - y) ** 2)\n",
    "print(\"Sai số bình phương trung bình (MSE):\", mse)\n"
   ]
  },
  {
   "cell_type": "code",
   "execution_count": null,
   "id": "3dae2eee-d770-4619-9c73-88bd8413813d",
   "metadata": {},
   "outputs": [],
   "source": []
  }
 ],
 "metadata": {
  "kernelspec": {
   "display_name": "Python 3 (ipykernel)",
   "language": "python",
   "name": "python3"
  },
  "language_info": {
   "codemirror_mode": {
    "name": "ipython",
    "version": 3
   },
   "file_extension": ".py",
   "mimetype": "text/x-python",
   "name": "python",
   "nbconvert_exporter": "python",
   "pygments_lexer": "ipython3",
   "version": "3.12.3"
  }
 },
 "nbformat": 4,
 "nbformat_minor": 5
}
