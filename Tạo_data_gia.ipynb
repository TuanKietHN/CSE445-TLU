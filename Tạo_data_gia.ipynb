{
 "cells": [
  {
   "cell_type": "code",
   "execution_count": 11,
   "id": "dca0188e-ce2a-47d0-b7d9-6bfe7549f2d1",
   "metadata": {},
   "outputs": [],
   "source": [
    "import pandas as pd\n",
    "import numpy as np\n",
    "\n",
    "# Tạo dữ liệu giả\n",
    "np.random.seed(0)\n",
    "data = {\n",
    "    'Khối_lượng': np.random.uniform(0.5, 10, 100),  # Khối lượng (kg)\n",
    "    'Loại': np.random.choice(['Rau', 'Củ', 'Quả'], 100),  # Loại sản phẩm\n",
    "    'Mùa': np.random.choice(['Xuân', 'Hạ', 'Thu', 'Đông'], 100),  # Mùa\n",
    "    'Giá': np.random.uniform(10, 100, 100)  # Giá (ngàn đồng)\n",
    "}\n",
    "\n",
    "df = pd.DataFrame(data)\n",
    "df['Giá'] += df['Khối_lượng'] * 5  # Giả định giá tăng theo khối lượng\n",
    "df['Giá'] += df['Loại'].apply(lambda x: 10 if x == 'Rau' else 20 if x == 'Củ' else 30)  # Giả định giá theo loại\n",
    "\n",
    "# Lưu dữ liệu vào file CSV\n",
    "df.to_csv('data_train.csv', index=False, encoding='utf-8-sig')"
   ]
  },
  {
   "cell_type": "code",
   "execution_count": null,
   "id": "f970c822-849e-427a-9888-e0c55a1ebc0e",
   "metadata": {},
   "outputs": [],
   "source": []
  }
 ],
 "metadata": {
  "kernelspec": {
   "display_name": "Python 3 (ipykernel)",
   "language": "python",
   "name": "python3"
  },
  "language_info": {
   "codemirror_mode": {
    "name": "ipython",
    "version": 3
   },
   "file_extension": ".py",
   "mimetype": "text/x-python",
   "name": "python",
   "nbconvert_exporter": "python",
   "pygments_lexer": "ipython3",
   "version": "3.12.3"
  }
 },
 "nbformat": 4,
 "nbformat_minor": 5
}
