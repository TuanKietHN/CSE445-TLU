{
 "cells": [
  {
   "cell_type": "code",
   "execution_count": 36,
   "id": "143f7a61-449d-42f1-8969-4169cca604fb",
   "metadata": {},
   "outputs": [],
   "source": [
    "from __future__ import print_function\n",
    "import numpy as np\n",
    "import matplotlib.pyplot as plt\n",
    "# height (cm), input data, each row is a data point\n",
    "X = np.array([[147, 150, 153, 158, 163, 165, 168, 170, 173, 175, 178, 180, 183]]).T\n",
    "# weight (kg)\n",
    "y = np.array([ 49, 50, 51, 54, 58, 59, 60, 62, 63, 64, 66, 67, 68])"
   ]
  },
  {
   "cell_type": "code",
   "execution_count": 22,
   "id": "c7bb6d79-1d17-4367-b97b-86348a533522",
   "metadata": {},
   "outputs": [
    {
     "ename": "KeyError",
     "evalue": "'price'",
     "output_type": "error",
     "traceback": [
      "\u001b[1;31m---------------------------------------------------------------------------\u001b[0m",
      "\u001b[1;31mKeyError\u001b[0m                                  Traceback (most recent call last)",
      "File \u001b[1;32mC:\\anaconda3\\Lib\\site-packages\\pandas\\core\\indexes\\base.py:3805\u001b[0m, in \u001b[0;36mIndex.get_loc\u001b[1;34m(self, key)\u001b[0m\n\u001b[0;32m   3804\u001b[0m \u001b[38;5;28;01mtry\u001b[39;00m:\n\u001b[1;32m-> 3805\u001b[0m     \u001b[38;5;28;01mreturn\u001b[39;00m \u001b[38;5;28mself\u001b[39m\u001b[38;5;241m.\u001b[39m_engine\u001b[38;5;241m.\u001b[39mget_loc(casted_key)\n\u001b[0;32m   3806\u001b[0m \u001b[38;5;28;01mexcept\u001b[39;00m \u001b[38;5;167;01mKeyError\u001b[39;00m \u001b[38;5;28;01mas\u001b[39;00m err:\n",
      "File \u001b[1;32mindex.pyx:167\u001b[0m, in \u001b[0;36mpandas._libs.index.IndexEngine.get_loc\u001b[1;34m()\u001b[0m\n",
      "File \u001b[1;32mindex.pyx:196\u001b[0m, in \u001b[0;36mpandas._libs.index.IndexEngine.get_loc\u001b[1;34m()\u001b[0m\n",
      "File \u001b[1;32mpandas\\\\_libs\\\\hashtable_class_helper.pxi:7081\u001b[0m, in \u001b[0;36mpandas._libs.hashtable.PyObjectHashTable.get_item\u001b[1;34m()\u001b[0m\n",
      "File \u001b[1;32mpandas\\\\_libs\\\\hashtable_class_helper.pxi:7089\u001b[0m, in \u001b[0;36mpandas._libs.hashtable.PyObjectHashTable.get_item\u001b[1;34m()\u001b[0m\n",
      "\u001b[1;31mKeyError\u001b[0m: 'price'",
      "\nThe above exception was the direct cause of the following exception:\n",
      "\u001b[1;31mKeyError\u001b[0m                                  Traceback (most recent call last)",
      "Cell \u001b[1;32mIn[22], line 9\u001b[0m\n\u001b[0;32m      7\u001b[0m \u001b[38;5;66;03m# Lựa chọn biến đầu vào X (ví dụ: diện tích và số phòng ngủ) và biến đích y (giá nhà)\u001b[39;00m\n\u001b[0;32m      8\u001b[0m X \u001b[38;5;241m=\u001b[39m data[[\u001b[38;5;124m'\u001b[39m\u001b[38;5;124mSalePrice\u001b[39m\u001b[38;5;124m'\u001b[39m, \u001b[38;5;124m'\u001b[39m\u001b[38;5;124mLotArea\u001b[39m\u001b[38;5;124m'\u001b[39m]]\u001b[38;5;241m.\u001b[39mvalues  \u001b[38;5;66;03m# Đầu vào là diện tích và số phòng ngủ\u001b[39;00m\n\u001b[1;32m----> 9\u001b[0m y \u001b[38;5;241m=\u001b[39m data[\u001b[38;5;124m'\u001b[39m\u001b[38;5;124mprice\u001b[39m\u001b[38;5;124m'\u001b[39m]\u001b[38;5;241m.\u001b[39mvalues  \u001b[38;5;66;03m# Biến đích là giá nhà\u001b[39;00m\n\u001b[0;32m     11\u001b[0m \u001b[38;5;66;03m# Thêm một cột toàn 1 vào ma trận X để tính hệ số chặn (w_0)\u001b[39;00m\n\u001b[0;32m     12\u001b[0m one \u001b[38;5;241m=\u001b[39m np\u001b[38;5;241m.\u001b[39mones((X\u001b[38;5;241m.\u001b[39mshape[\u001b[38;5;241m0\u001b[39m], \u001b[38;5;241m1\u001b[39m))\n",
      "File \u001b[1;32mC:\\anaconda3\\Lib\\site-packages\\pandas\\core\\frame.py:4102\u001b[0m, in \u001b[0;36mDataFrame.__getitem__\u001b[1;34m(self, key)\u001b[0m\n\u001b[0;32m   4100\u001b[0m \u001b[38;5;28;01mif\u001b[39;00m \u001b[38;5;28mself\u001b[39m\u001b[38;5;241m.\u001b[39mcolumns\u001b[38;5;241m.\u001b[39mnlevels \u001b[38;5;241m>\u001b[39m \u001b[38;5;241m1\u001b[39m:\n\u001b[0;32m   4101\u001b[0m     \u001b[38;5;28;01mreturn\u001b[39;00m \u001b[38;5;28mself\u001b[39m\u001b[38;5;241m.\u001b[39m_getitem_multilevel(key)\n\u001b[1;32m-> 4102\u001b[0m indexer \u001b[38;5;241m=\u001b[39m \u001b[38;5;28mself\u001b[39m\u001b[38;5;241m.\u001b[39mcolumns\u001b[38;5;241m.\u001b[39mget_loc(key)\n\u001b[0;32m   4103\u001b[0m \u001b[38;5;28;01mif\u001b[39;00m is_integer(indexer):\n\u001b[0;32m   4104\u001b[0m     indexer \u001b[38;5;241m=\u001b[39m [indexer]\n",
      "File \u001b[1;32mC:\\anaconda3\\Lib\\site-packages\\pandas\\core\\indexes\\base.py:3812\u001b[0m, in \u001b[0;36mIndex.get_loc\u001b[1;34m(self, key)\u001b[0m\n\u001b[0;32m   3807\u001b[0m     \u001b[38;5;28;01mif\u001b[39;00m \u001b[38;5;28misinstance\u001b[39m(casted_key, \u001b[38;5;28mslice\u001b[39m) \u001b[38;5;129;01mor\u001b[39;00m (\n\u001b[0;32m   3808\u001b[0m         \u001b[38;5;28misinstance\u001b[39m(casted_key, abc\u001b[38;5;241m.\u001b[39mIterable)\n\u001b[0;32m   3809\u001b[0m         \u001b[38;5;129;01mand\u001b[39;00m \u001b[38;5;28many\u001b[39m(\u001b[38;5;28misinstance\u001b[39m(x, \u001b[38;5;28mslice\u001b[39m) \u001b[38;5;28;01mfor\u001b[39;00m x \u001b[38;5;129;01min\u001b[39;00m casted_key)\n\u001b[0;32m   3810\u001b[0m     ):\n\u001b[0;32m   3811\u001b[0m         \u001b[38;5;28;01mraise\u001b[39;00m InvalidIndexError(key)\n\u001b[1;32m-> 3812\u001b[0m     \u001b[38;5;28;01mraise\u001b[39;00m \u001b[38;5;167;01mKeyError\u001b[39;00m(key) \u001b[38;5;28;01mfrom\u001b[39;00m \u001b[38;5;21;01merr\u001b[39;00m\n\u001b[0;32m   3813\u001b[0m \u001b[38;5;28;01mexcept\u001b[39;00m \u001b[38;5;167;01mTypeError\u001b[39;00m:\n\u001b[0;32m   3814\u001b[0m     \u001b[38;5;66;03m# If we have a listlike key, _check_indexing_error will raise\u001b[39;00m\n\u001b[0;32m   3815\u001b[0m     \u001b[38;5;66;03m#  InvalidIndexError. Otherwise we fall through and re-raise\u001b[39;00m\n\u001b[0;32m   3816\u001b[0m     \u001b[38;5;66;03m#  the TypeError.\u001b[39;00m\n\u001b[0;32m   3817\u001b[0m     \u001b[38;5;28mself\u001b[39m\u001b[38;5;241m.\u001b[39m_check_indexing_error(key)\n",
      "\u001b[1;31mKeyError\u001b[0m: 'price'"
     ]
    }
   ],
   "source": [
    "\n",
    "import numpy as np\n",
    "import pandas as pd\n",
    "\n",
    "# Ví dụ với dữ liệu giá nhà (giả định) có 2 biến đầu vào: diện tích (area) và số phòng ngủ (bedrooms)\n",
    "data = pd.read_csv('train.csv')  # Đọc dữ liệu từ file CSV\n",
    "\n",
    "# Lựa chọn biến đầu vào X (ví dụ: diện tích và số phòng ngủ) và biến đích y (giá nhà)\n",
    "X = data[['SalePrice', 'LotArea']].values  # Đầu vào là diện tích và số phòng ngủ\n",
    "y = data['price'].values  # Biến đích là giá nhà\n",
    "\n",
    "# Thêm một cột toàn 1 vào ma trận X để tính hệ số chặn (w_0)\n",
    "one = np.ones((X.shape[0], 1))\n",
    "Xbar = np.concatenate((one, X), axis=1)  # Ma trận X mở rộng\n",
    "\n",
    "# Tính ma trận A và vector b\n",
    "A = np.dot(Xbar.T, Xbar)\n",
    "b = np.dot(Xbar.T, y)\n",
    "\n",
    "# Tính vector trọng số w bằng công thức w = (X^T * X)^(-1) * (X^T * y)\n",
    "w = np.dot(np.linalg.pinv(A), b)\n",
    "\n",
    "# Trọng số w bao gồm w_0 (hệ số chặn) và w_1, w_2 (các trọng số tương ứng với các biến đầu vào)\n",
    "w_0, w_1, w_2 = w[0], w[1], w[2]\n",
    "\n",
    "# In ra kết quả\n",
    "print(f'Hệ số chặn (w_0): {w_0}')\n",
    "print(f'Trọng số cho diện tích (w_1): {w_1}')\n",
    "print(f'Trọng số cho số phòng ngủ (w_2): {w_2}')\n"
   ]
  },
  {
   "cell_type": "code",
   "execution_count": 38,
   "id": "ea484576-c537-4c32-9902-301ab9d269d2",
   "metadata": {},
   "outputs": [],
   "source": [
    "# Building Xbar\n",
    "one = np.ones((X.shape[0], 1))\n",
    "Xbar = np.concatenate((one, X), axis = 1) # each point is one row\n",
    "# Calculating weights of the fitting line\n",
    "A = np.dot(Xbar.T, Xbar)\n",
    "b = np.dot(Xbar.T, y)\n",
    "w = np.dot(np.linalg.pinv(A), b)\n",
    "# weights\n",
    "w_0, w_1 = w[0], w[1]"
   ]
  },
  {
   "cell_type": "code",
   "execution_count": 42,
   "id": "d50b80ff-7a56-4bf1-b2fe-4875a5e70a87",
   "metadata": {},
   "outputs": [],
   "source": [
    "h1=250\n",
    "h2=140"
   ]
  },
  {
   "cell_type": "code",
   "execution_count": 50,
   "id": "67b85b48-7405-4733-b7ce-0f0013906374",
   "metadata": {},
   "outputs": [
    {
     "name": "stdout",
     "output_type": "stream",
     "text": [
      "Input 250cm, predicted output 106.07 kg\n",
      "Input 140cm, predicted output 44.55 kg\n"
     ]
    }
   ],
   "source": [
    "y1 = w_1*h1 + w_0\n",
    "y2 = w_1*h2 + w_0\n",
    "print(f'Input {h1}cm, predicted output {y1:.2f} kg')\n",
    "print(f'Input {h2}cm, predicted output {y2:.2f} kg')"
   ]
  },
  {
   "cell_type": "code",
   "execution_count": 20,
   "id": "1ac912c9-8844-4599-9f1f-0893aed329af",
   "metadata": {},
   "outputs": [
    {
     "name": "stdout",
     "output_type": "stream",
     "text": [
      "scikit-learn’s solution : w_1 =  0.5592049619396674 w_0 =  -33.73541020580774\n",
      "our solution : w_1 =  0.5592049619395709 w_0 =  -33.73541020578887\n"
     ]
    }
   ],
   "source": [
    "from sklearn import datasets, linear_model\n",
    "# fit the model by Linear Regression\n",
    "regr = linear_model.LinearRegression()\n",
    "regr.fit(X, y) # in scikit-learn, each sample is one row\n",
    "# Compare two results\n",
    "print(\"scikit-learn’s solution : w_1 = \", regr.coef_[0], \"w_0 = \", regr.intercept_)\n",
    "print(\"our solution : w_1 = \", w[1], \"w_0 = \", w[0])"
   ]
  },
  {
   "cell_type": "code",
   "execution_count": null,
   "id": "23bf2135-539c-4ab7-b5a8-29216aec3d2a",
   "metadata": {},
   "outputs": [],
   "source": []
  }
 ],
 "metadata": {
  "kernelspec": {
   "display_name": "Python 3 (ipykernel)",
   "language": "python",
   "name": "python3"
  },
  "language_info": {
   "codemirror_mode": {
    "name": "ipython",
    "version": 3
   },
   "file_extension": ".py",
   "mimetype": "text/x-python",
   "name": "python",
   "nbconvert_exporter": "python",
   "pygments_lexer": "ipython3",
   "version": "3.12.3"
  }
 },
 "nbformat": 4,
 "nbformat_minor": 5
}
