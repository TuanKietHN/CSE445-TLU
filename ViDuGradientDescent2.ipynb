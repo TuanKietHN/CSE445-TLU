{
 "cells": [
  {
   "cell_type": "code",
   "execution_count": 14,
   "id": "462f0ace-188e-41f5-89d6-56b3ebfe5857",
   "metadata": {},
   "outputs": [
    {
     "name": "stdout",
     "output_type": "stream",
     "text": [
      "Giá trị cực tiểu x1 = -0.000532, giá trị của hàm tại x cực tiểu = -2.000000, sau 41 lần lặp\n",
      "Giá trị cực tiểu x2 = 0.000532, giá trị của hàm tại x cực tiểu = -2.000000, sau 41 lần lặp\n"
     ]
    }
   ],
   "source": [
    "import numpy as np\n",
    "\n",
    "def grad(x):\n",
    "    return 2*x \n",
    "\n",
    "def cost(x):\n",
    "    return x**2 - 2 \n",
    "\n",
    "def myGD(x0, eta):\n",
    "    x = [x0]\n",
    "    for it in range(100):\n",
    "        Xnew = x[-1] - eta * grad(x[-1])\n",
    "        if abs(grad(Xnew)) < 1e-3:  # Dừng nếu gradient nhỏ hơn ngưỡng 1e-3\n",
    "            break\n",
    "        x.append(Xnew)\n",
    "    return (x, it)\n",
    "\n",
    "(x1, it1) = myGD(-5, .1)\n",
    "(x2, it2) = myGD(5, .1)\n",
    "print('Giá trị cực tiểu x1 = %f, giá trị của hàm tại x cực tiểu = %f, sau %d lần lặp' % (x1[-1], cost(x1[-1]), it1))\n",
    "print('Giá trị cực tiểu x2 = %f, giá trị của hàm tại x cực tiểu = %f, sau %d lần lặp' % (x2[-1], cost(x2[-1]), it2))"
   ]
  },
  {
   "cell_type": "code",
   "execution_count": null,
   "id": "7e770c53-4139-4ae6-abd5-3660e3f9ac6e",
   "metadata": {},
   "outputs": [],
   "source": []
  }
 ],
 "metadata": {
  "kernelspec": {
   "display_name": "Python 3 (ipykernel)",
   "language": "python",
   "name": "python3"
  },
  "language_info": {
   "codemirror_mode": {
    "name": "ipython",
    "version": 3
   },
   "file_extension": ".py",
   "mimetype": "text/x-python",
   "name": "python",
   "nbconvert_exporter": "python",
   "pygments_lexer": "ipython3",
   "version": "3.12.3"
  }
 },
 "nbformat": 4,
 "nbformat_minor": 5
}
