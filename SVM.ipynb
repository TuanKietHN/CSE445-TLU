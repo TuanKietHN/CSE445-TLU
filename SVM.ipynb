{
 "cells": [
  {
   "cell_type": "code",
   "execution_count": 2,
   "id": "4ae43576-eda9-4a72-b8e1-ebfa0b513591",
   "metadata": {},
   "outputs": [
    {
     "name": "stdout",
     "output_type": "stream",
     "text": [
      "w_dual =  [[-1.87461946]\n",
      " [-1.80697358]]\n",
      "b_dual =  8.496911901960104\n"
     ]
    }
   ],
   "source": [
    "from __future__ import print_function\n",
    "import numpy as np\n",
    "import matplotlib.pyplot as plt\n",
    "np.random.seed(22)\n",
    "\n",
    "# Define the means and covariance matrix for the two classes\n",
    "means = [[2, 2], [4, 2]]\n",
    "cov = [[.7, 0], [0, .7]]\n",
    "\n",
    "# Number of samples per class\n",
    "N = 20\n",
    "\n",
    "# Generate data for two classes\n",
    "X0 = np.random.multivariate_normal(means[0], cov, N)\n",
    "X1 = np.random.multivariate_normal(means[1], cov, N)\n",
    "\n",
    "# Combine the data points from both classes\n",
    "X = np.concatenate((X0, X1))\n",
    "\n",
    "# Labels for the data points (1 for class 1 and -1 for class 2)\n",
    "y = np.concatenate((np.ones(N), -np.ones(N)))\n",
    "\n",
    "# Import SVM classifier from sklearn\n",
    "from sklearn.svm import SVC\n",
    "\n",
    "# Define the SVM model with a linear kernel and a regularization parameter C\n",
    "C = 100\n",
    "clf = SVC(kernel='linear', C=C)\n",
    "\n",
    "# Fit the model to the data\n",
    "clf.fit(X, y)\n",
    "\n",
    "# Extract the weights (w) and bias (b) from the trained model\n",
    "w_sklearn = clf.coef_.reshape(-1, 1)\n",
    "b_sklearn = clf.intercept_[0]\n",
    "\n",
    "# Print the weights and bias\n",
    "print('w_dual = ', w_sklearn)\n",
    "print('b_dual = ', b_sklearn)\n"
   ]
  },
  {
   "cell_type": "code",
   "execution_count": null,
   "id": "87fcf7a3-c9b4-41d6-a190-bd11ff3134b6",
   "metadata": {},
   "outputs": [],
   "source": []
  }
 ],
 "metadata": {
  "kernelspec": {
   "display_name": "Python 3 (ipykernel)",
   "language": "python",
   "name": "python3"
  },
  "language_info": {
   "codemirror_mode": {
    "name": "ipython",
    "version": 3
   },
   "file_extension": ".py",
   "mimetype": "text/x-python",
   "name": "python",
   "nbconvert_exporter": "python",
   "pygments_lexer": "ipython3",
   "version": "3.12.3"
  }
 },
 "nbformat": 4,
 "nbformat_minor": 5
}
