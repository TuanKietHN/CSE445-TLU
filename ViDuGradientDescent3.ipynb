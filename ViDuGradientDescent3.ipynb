{
 "cells": [
  {
   "cell_type": "code",
   "execution_count": 14,
   "id": "5825b242-048e-4db4-ab5a-fbbafb8aebad",
   "metadata": {},
   "outputs": [
    {
     "name": "stdout",
     "output_type": "stream",
     "text": [
      "Giá trị của x vượt ngưỡng an toàn tại vòng lặp 26, dừng lại.\n",
      "Giá trị cực tiểu x1 = -196453.443500, giá trị của hàm tại x cực tiểu = -2527305149471363.500000, sau 26 lần lặp\n",
      "Giá trị cực tiểu x2 = 1.000504, giá trị của hàm tại x cực tiểu = -0.666666, sau 389 lần lặp\n"
     ]
    }
   ],
   "source": [
    "import numpy as np\n",
    "\n",
    "def grad(x):\n",
    "    return x**2-1 \n",
    "\n",
    "def cost(x):\n",
    "    return (1/3)*x**3 - x\n",
    "\n",
    "def myGD(x0, eta):\n",
    "    x = [x0]\n",
    "    for it in range(1000):\n",
    "        Xnew = x[-1] - eta * grad(x[-1])\n",
    "        if abs(Xnew) > 1e6:\n",
    "            print(f\"Giá trị của x vượt ngưỡng an toàn tại vòng lặp {it}, dừng lại.\")\n",
    "            break\n",
    "        if abs(grad(Xnew)) < 1e-3:  # Dừng nếu gradient nhỏ hơn ngưỡng 1e-3\n",
    "            break\n",
    "        x.append(Xnew)\n",
    "    return (x, it)\n",
    "\n",
    "(x1, it1) = myGD(-5, .01)\n",
    "(x2, it2) = myGD(5, .01)\n",
    "print('Giá trị cực tiểu x1 = %f, giá trị của hàm tại x cực tiểu = %f, sau %d lần lặp' % (x1[-1], cost(x1[-1]), it1))\n",
    "print('Giá trị cực tiểu x2 = %f, giá trị của hàm tại x cực tiểu = %f, sau %d lần lặp' % (x2[-1], cost(x2[-1]), it2))"
   ]
  }
 ],
 "metadata": {
  "kernelspec": {
   "display_name": "Python 3 (ipykernel)",
   "language": "python",
   "name": "python3"
  },
  "language_info": {
   "codemirror_mode": {
    "name": "ipython",
    "version": 3
   },
   "file_extension": ".py",
   "mimetype": "text/x-python",
   "name": "python",
   "nbconvert_exporter": "python",
   "pygments_lexer": "ipython3",
   "version": "3.12.3"
  }
 },
 "nbformat": 4,
 "nbformat_minor": 5
}
